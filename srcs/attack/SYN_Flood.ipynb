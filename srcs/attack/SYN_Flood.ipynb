{
 "cells": [
  {
   "cell_type": "markdown",
   "id": "6e80a215",
   "metadata": {},
   "source": [
    "# <center>Thực hiện tấn công TCP SYN Flood bằng Kali Linux với hping3</center>"
   ]
  },
  {
   "cell_type": "markdown",
   "id": "55725312",
   "metadata": {},
   "source": [
    "Để thực hiện tấn công TCP SYN Flood, cách đơn giản nhất là thông qua hệ điều hành Kali Linux và cụ thể hơn là hping3, một công cụ kiểm thử thâm nhập TCP phổ biến có trong Kali Linux.\n"
   ]
  },
  {
   "cell_type": "markdown",
   "id": "f1c2ad81",
   "metadata": {},
   "source": [
    "Người dùng Linux có thể cài đặt hping3 vào hệ điều hành Linux bằng lệnh:"
   ]
  },
  {
   "cell_type": "raw",
   "id": "3807609c",
   "metadata": {},
   "source": [
    "# sudo apt-get install hping3"
   ]
  },
  {
   "cell_type": "markdown",
   "id": "b097f130",
   "metadata": {},
   "source": [
    "Trong hầu hết các trường hợp, những kẻ tấn công sẽ sử dụng hping hoặc một số công cụ khác để giả mạo các địa chỉ IP một cách ngẫu nhiên. Dòng bên dưới cho phép ta bắt đầu và hướng cuộc tấn công SYN Flood tới địa chỉ IP của nạn nhân (10.0.2.15):"
   ]
  },
  {
   "cell_type": "raw",
   "id": "1b873cf2",
   "metadata": {},
   "source": [
    "# hping3 --count 15000 --data 120 --syn --win 64 -p 80 --flood --rand-source 10.0.2.15"
   ]
  },
  {
   "attachments": {},
   "cell_type": "markdown",
   "id": "72c7f73a",
   "metadata": {},
   "source": [
    "<figure>\n",
    "<center> <img src=\"https://i.imgur.com/nbhqCNA.jpg\"> </center>\n",
    "<center> <figcaption> Tấn công TCP SYN Flood bằng Kali Linux qua hping3 </figcaption> </center>\n",
    "</figure>"
   ]
  },
  {
   "cell_type": "markdown",
   "id": "4a73966c",
   "metadata": {},
   "source": [
    "Với dòng lệnh trên, ta sẽ gửi 15000 gói tin (--count 15000) với kích thước 120 bytes (--data 120) mỗi gói. Ta chỉ định rằng cờ SYN (--syn) được bật, với kích thước cửa sổ TCP (TCP window size) là 64 (--win 64). Để hướng cuộc tấn công đến máy chủ web HTTP của nạn nhân, ta chỉ định cổng 80 (-p 80) và sử dụng cờ --flood để gửi các gói tin đến máy nạn nhân nhanh nhất có thể. Cờ --rand-source sẽ tạo các địa chỉ IP giả mạo để che giấu địa chỉ IP thực của kẻ tấn công nhằm tránh bị phát hiện và đồng thời ngăn các gói tin trả lời SYN/ACK của nạn nhân đến địa chỉ IP của kẻ tấn công."
   ]
  }
 ],
 "metadata": {
  "kernelspec": {
   "display_name": "Python 3 (ipykernel)",
   "language": "python",
   "name": "python3"
  },
  "language_info": {
   "codemirror_mode": {
    "name": "ipython",
    "version": 3
   },
   "file_extension": ".py",
   "mimetype": "text/x-python",
   "name": "python",
   "nbconvert_exporter": "python",
   "pygments_lexer": "ipython3",
   "version": "3.11.2"
  }
 },
 "nbformat": 4,
 "nbformat_minor": 5
}
